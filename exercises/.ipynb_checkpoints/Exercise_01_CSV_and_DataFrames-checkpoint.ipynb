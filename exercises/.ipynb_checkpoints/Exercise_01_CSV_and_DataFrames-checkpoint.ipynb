{
 "cells": [
  {
   "cell_type": "markdown",
   "metadata": {},
   "source": [
    "# CSV Files and Data Frames\n",
    "\n",
    "After the general introduction above, the real exercise starts now. \n",
    "\n",
    "## Loading data from CSV\n",
    "Your first step is always accessing the data. Often, the data is stored in a database or within files. One common and generic exchange format for files are Comma Separated Value (CSV) files. The first line of such a file indicates the names of the features, the following lines each contain a single instance.\n",
    "\n",
    "First, download the [bankruptcy data set](http://user.informatik.uni-goettingen.de/~sherbold/analcatdata_bankruptcy.csv) we prepared for you and and upload it to your Jupyter notebook. Please note, that we slightly modified the data from the original available in the [UCI archive](https://archive.ics.uci.edu/ml/index.php) UCI for this exercise, e.g., to include missing values. \n",
    "\n",
    "Use the cell below to load the data from the CSV file. The data should be loaded into a _data frame_. Data frames are available in python using the ```pandas``` library. In comparison to matrices or similar types, they allow different types of columns, are usually easier to manipulate, e.g., by adding or removing rows/columns, and rows and columns can be named. \n",
    "\n",
    "Once you have done this, print some information about the data:\n",
    "- number of instances\n",
    "- number of features\n",
    "- names of the features\n",
    "\n",
    "You should have 55 instances with 7 features. "
   ]
  },
  {
   "cell_type": "code",
   "execution_count": 54,
   "metadata": {},
   "outputs": [
    {
     "data": {
      "text/plain": [
       "(55, 7)"
      ]
     },
     "execution_count": 54,
     "metadata": {},
     "output_type": "execute_result"
    }
   ],
   "source": [
    "import pandas as pd\n",
    "data=pd.read_csv(\"analcatdata_bankruptcy.csv\")\n",
    "data.shape"
   ]
  },
  {
   "cell_type": "markdown",
   "metadata": {},
   "source": [
    "## Remove features\n",
    "\n",
    "If you load all data from a file, you often also load irrelevant features for a task. In case of the data you just loaded, the feature is called ```Company```. This is an ID feature for the instances in the data. Such data must often be removed before further analysis of the data. Your second task is to remove this feature from the data."
   ]
  },
  {
   "cell_type": "code",
   "execution_count": 55,
   "metadata": {
    "scrolled": true
   },
   "outputs": [
    {
     "data": {
      "text/plain": [
       "(55, 6)"
      ]
     },
     "execution_count": 55,
     "metadata": {},
     "output_type": "execute_result"
    }
   ],
   "source": [
    "#2.2\n",
    "data=data.drop(\"Company\",axis=1)\n",
    "data.shape"
   ]
  },
  {
   "cell_type": "markdown",
   "metadata": {},
   "source": [
    "## Remove instances with missing values\n",
    "\n",
    "Real-life data is often not clean, i.e., the data has many problems which must be addressed first, before it can be used for analysis. One common problem are missing features, i.e., not all features are available for all data. This is also the case for the data you just loaded. All missing values are marked as NA in the CSV file. \n",
    "\n",
    "Your third task is to remove all instances from the data, that have any missing values and store the remaining instances in a new data frame. If this works correctly, five instances should be removed. You can check this, e.g., by comparing the sizes of the data frames or printing the instances that were removed.\n"
   ]
  },
  {
   "cell_type": "code",
   "execution_count": 56,
   "metadata": {},
   "outputs": [
    {
     "data": {
      "text/plain": [
       "(50, 6)"
      ]
     },
     "execution_count": 56,
     "metadata": {},
     "output_type": "execute_result"
    }
   ],
   "source": [
    "#2.3\n",
    "del data2\n",
    "data2= data.dropna()\n",
    "data2.shape"
   ]
  },
  {
   "cell_type": "code",
   "execution_count": 68,
   "metadata": {},
   "outputs": [
    {
     "data": {
      "text/html": [
       "<div>\n",
       "<style scoped>\n",
       "    .dataframe tbody tr th:only-of-type {\n",
       "        vertical-align: middle;\n",
       "    }\n",
       "\n",
       "    .dataframe tbody tr th {\n",
       "        vertical-align: top;\n",
       "    }\n",
       "\n",
       "    .dataframe thead th {\n",
       "        text-align: right;\n",
       "    }\n",
       "</style>\n",
       "<table border=\"1\" class=\"dataframe\">\n",
       "  <thead>\n",
       "    <tr style=\"text-align: right;\">\n",
       "      <th></th>\n",
       "      <th>WC/TA</th>\n",
       "      <th>RE/TA</th>\n",
       "      <th>EBIT/TA</th>\n",
       "      <th>S/TA</th>\n",
       "      <th>BVE/BVL</th>\n",
       "      <th>Bankrupt</th>\n",
       "      <th>SUM</th>\n",
       "      <th>PRODUCT</th>\n",
       "    </tr>\n",
       "  </thead>\n",
       "  <tbody>\n",
       "    <tr>\n",
       "      <th>0</th>\n",
       "      <td>9.3</td>\n",
       "      <td>-7.7</td>\n",
       "      <td>1.6</td>\n",
       "      <td>9.1</td>\n",
       "      <td>3.726</td>\n",
       "      <td>1.0</td>\n",
       "      <td>1.6</td>\n",
       "      <td>-71.61</td>\n",
       "    </tr>\n",
       "    <tr>\n",
       "      <th>1</th>\n",
       "      <td>42.6</td>\n",
       "      <td>-60.1</td>\n",
       "      <td>-10.1</td>\n",
       "      <td>0.3</td>\n",
       "      <td>4.130</td>\n",
       "      <td>1.0</td>\n",
       "      <td>-17.5</td>\n",
       "      <td>-2560.26</td>\n",
       "    </tr>\n",
       "    <tr>\n",
       "      <th>2</th>\n",
       "      <td>-28.8</td>\n",
       "      <td>-203.2</td>\n",
       "      <td>-51.0</td>\n",
       "      <td>14.7</td>\n",
       "      <td>0.111</td>\n",
       "      <td>1.0</td>\n",
       "      <td>-232.0</td>\n",
       "      <td>5852.16</td>\n",
       "    </tr>\n",
       "    <tr>\n",
       "      <th>3</th>\n",
       "      <td>2.5</td>\n",
       "      <td>-433.1</td>\n",
       "      <td>-6.0</td>\n",
       "      <td>29.3</td>\n",
       "      <td>1.949</td>\n",
       "      <td>1.0</td>\n",
       "      <td>-430.6</td>\n",
       "      <td>-1082.75</td>\n",
       "    </tr>\n",
       "    <tr>\n",
       "      <th>4</th>\n",
       "      <td>26.1</td>\n",
       "      <td>-57.4</td>\n",
       "      <td>-23.5</td>\n",
       "      <td>54.2</td>\n",
       "      <td>0.855</td>\n",
       "      <td>1.0</td>\n",
       "      <td>-31.3</td>\n",
       "      <td>-1498.14</td>\n",
       "    </tr>\n",
       "  </tbody>\n",
       "</table>\n",
       "</div>"
      ],
      "text/plain": [
       "   WC/TA  RE/TA  EBIT/TA  S/TA  BVE/BVL  Bankrupt    SUM  PRODUCT\n",
       "0    9.3   -7.7      1.6   9.1    3.726       1.0    1.6   -71.61\n",
       "1   42.6  -60.1    -10.1   0.3    4.130       1.0  -17.5 -2560.26\n",
       "2  -28.8 -203.2    -51.0  14.7    0.111       1.0 -232.0  5852.16\n",
       "3    2.5 -433.1     -6.0  29.3    1.949       1.0 -430.6 -1082.75\n",
       "4   26.1  -57.4    -23.5  54.2    0.855       1.0  -31.3 -1498.14"
      ]
     },
     "execution_count": 68,
     "metadata": {},
     "output_type": "execute_result"
    }
   ],
   "source": [
    "data2.head()"
   ]
  },
  {
   "cell_type": "markdown",
   "metadata": {},
   "source": [
    "## Computing with data frames\n",
    "\n",
    "Sometimes you have to compute new columns from the values of existing columns. Please append two new columns to the data frame: The sum of the columns WC/TA and RE/TA and the product of the columns EBIT/TA and S/TA. "
   ]
  },
  {
   "cell_type": "code",
   "execution_count": 57,
   "metadata": {},
   "outputs": [
    {
     "name": "stderr",
     "output_type": "stream",
     "text": [
      "/home/jan-hendrik/anaconda3/lib/python3.7/site-packages/ipykernel_launcher.py:2: SettingWithCopyWarning: \n",
      "A value is trying to be set on a copy of a slice from a DataFrame.\n",
      "Try using .loc[row_indexer,col_indexer] = value instead\n",
      "\n",
      "See the caveats in the documentation: http://pandas.pydata.org/pandas-docs/stable/indexing.html#indexing-view-versus-copy\n",
      "  \n",
      "/home/jan-hendrik/anaconda3/lib/python3.7/site-packages/ipykernel_launcher.py:3: SettingWithCopyWarning: \n",
      "A value is trying to be set on a copy of a slice from a DataFrame.\n",
      "Try using .loc[row_indexer,col_indexer] = value instead\n",
      "\n",
      "See the caveats in the documentation: http://pandas.pydata.org/pandas-docs/stable/indexing.html#indexing-view-versus-copy\n",
      "  This is separate from the ipykernel package so we can avoid doing imports until\n"
     ]
    },
    {
     "data": {
      "text/plain": [
       "(50, 8)"
      ]
     },
     "execution_count": 57,
     "metadata": {},
     "output_type": "execute_result"
    }
   ],
   "source": [
    "#2.\n",
    "data2[\"SUM\"]= data2[\"WC/TA\"] + data2[\"RE/TA\"]\n",
    "data2[\"PRODUCT\"]= data2[\"WC/TA\"] * data2[\"RE/TA\"]\n",
    "data2.shape"
   ]
  },
  {
   "cell_type": "code",
   "execution_count": 60,
   "metadata": {},
   "outputs": [
    {
     "data": {
      "text/plain": [
       "(50, 8)"
      ]
     },
     "execution_count": 60,
     "metadata": {},
     "output_type": "execute_result"
    }
   ],
   "source": [
    "data2.shape"
   ]
  },
  {
   "cell_type": "markdown",
   "metadata": {},
   "source": [
    "## Merging data frames\n",
    "\n",
    "The next task of this exercise is to merge data frames. For this, load the data from the same CSV file as above again. Then merge the data frame with the result from task 2.4, such that:\n",
    "- the dropped feature from task 2.2 is part of the merged data frame; and\n",
    "- the removed instances from task 2.3 are still gone; and\n",
    "- the indirectly computed features from task 2.4 are part of the merged data frame. "
   ]
  },
  {
   "cell_type": "code",
   "execution_count": 74,
   "metadata": {},
   "outputs": [
    {
     "data": {
      "text/plain": [
       "(50, 9)"
      ]
     },
     "execution_count": 74,
     "metadata": {},
     "output_type": "execute_result"
    }
   ],
   "source": [
    "data=pd.read_csv(\"analcatdata_bankruptcy.csv\")\n",
    "data= data.dropna()\n",
    "data3=pd.merge(data, data2,how='left')\n",
    "data3.head()\n",
    "data3.shape"
   ]
  },
  {
   "cell_type": "code",
   "execution_count": 75,
   "metadata": {},
   "outputs": [
    {
     "data": {
      "text/plain": [
       "(50, 9)"
      ]
     },
     "execution_count": 75,
     "metadata": {},
     "output_type": "execute_result"
    }
   ],
   "source": [
    "#try2\n",
    "data=pd.read_csv(\"analcatdata_bankruptcy.csv\")\n",
    "data3=pd.merge(data2, data,how='left')\n",
    "data3.shape"
   ]
  },
  {
   "cell_type": "markdown",
   "metadata": {},
   "source": [
    "## Selecting subsets\n",
    "\n",
    "Based on the data frame from task 2.5, create new data frames according to the following criteria.\n",
    "- A data frame with only the rows 10 to 20 and all columns. \n",
    "- A data frame with only the columns 1 to 4 and all rows. \n",
    "- A data frame with only the columns WC/TA and EBIT/TA and all rows. \n",
    "- A data frame with all rows that have the value RE/TA less than -20 and all columns.\n",
    "- A data frame with all rows that have the value RE/TA less than -20 and bankrupt equal to 0 and all columns. \n",
    "- A data frame with all rows that have the value RE/TA less than -20 and bankrupt equal to 0 and only the columns WC/TA and EBIT/TA. \n"
   ]
  },
  {
   "cell_type": "code",
   "execution_count": 112,
   "metadata": {},
   "outputs": [
    {
     "data": {
      "text/html": [
       "<div>\n",
       "<style scoped>\n",
       "    .dataframe tbody tr th:only-of-type {\n",
       "        vertical-align: middle;\n",
       "    }\n",
       "\n",
       "    .dataframe tbody tr th {\n",
       "        vertical-align: top;\n",
       "    }\n",
       "\n",
       "    .dataframe thead th {\n",
       "        text-align: right;\n",
       "    }\n",
       "</style>\n",
       "<table border=\"1\" class=\"dataframe\">\n",
       "  <thead>\n",
       "    <tr style=\"text-align: right;\">\n",
       "      <th></th>\n",
       "      <th>WC/TA</th>\n",
       "      <th>EBIT/TA</th>\n",
       "    </tr>\n",
       "  </thead>\n",
       "  <tbody>\n",
       "    <tr>\n",
       "      <th>26</th>\n",
       "      <td>9.8</td>\n",
       "      <td>-7.1</td>\n",
       "    </tr>\n",
       "    <tr>\n",
       "      <th>27</th>\n",
       "      <td>37.8</td>\n",
       "      <td>-7.1</td>\n",
       "    </tr>\n",
       "    <tr>\n",
       "      <th>35</th>\n",
       "      <td>13.8</td>\n",
       "      <td>-13.0</td>\n",
       "    </tr>\n",
       "    <tr>\n",
       "      <th>41</th>\n",
       "      <td>20.3</td>\n",
       "      <td>1.9</td>\n",
       "    </tr>\n",
       "    <tr>\n",
       "      <th>49</th>\n",
       "      <td>1.1</td>\n",
       "      <td>15.7</td>\n",
       "    </tr>\n",
       "  </tbody>\n",
       "</table>\n",
       "</div>"
      ],
      "text/plain": [
       "    WC/TA  EBIT/TA\n",
       "26    9.8     -7.1\n",
       "27   37.8     -7.1\n",
       "35   13.8    -13.0\n",
       "41   20.3      1.9\n",
       "49    1.1     15.7"
      ]
     },
     "execution_count": 112,
     "metadata": {},
     "output_type": "execute_result"
    }
   ],
   "source": [
    "#a\n",
    "data3[10:21]\n",
    "data3.iloc[10:21,:]\n",
    "#b\n",
    "data3.iloc[:,0:4]\n",
    "#c\n",
    "data3[[\"WC/TA\", \"EBIT/TA\"]]\n",
    "#d\n",
    "data3[data3[\"RE/TA\"] < -20]\n",
    "#e\n",
    "data3[(data3[\"RE/TA\"] < -20) & (data3[\"Bankrupt\"] <1) ]\n",
    "#f\n",
    "data4=data3[(data3[\"RE/TA\"] < -20) & (data3[\"Bankrupt\"] <1) ]\n",
    "data4[[\"WC/TA\",\"EBIT/TA\"]]"
   ]
  },
  {
   "cell_type": "code",
   "execution_count": null,
   "metadata": {},
   "outputs": [],
   "source": []
  }
 ],
 "metadata": {
  "kernelspec": {
   "display_name": "Python 3",
   "language": "python",
   "name": "python3"
  },
  "language_info": {
   "codemirror_mode": {
    "name": "ipython",
    "version": 3
   },
   "file_extension": ".py",
   "mimetype": "text/x-python",
   "name": "python",
   "nbconvert_exporter": "python",
   "pygments_lexer": "ipython3",
   "version": "3.7.3"
  }
 },
 "nbformat": 4,
 "nbformat_minor": 2
}
