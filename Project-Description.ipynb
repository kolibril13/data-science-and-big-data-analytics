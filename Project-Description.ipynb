{
 "cells": [
  {
   "cell_type": "markdown",
   "metadata": {},
   "source": [
    "# Data Science and Big Data Analytics - Group Projects\n",
    "\n",
    "For the project, we give you access to a database we actively use for our research on open source software development. The database contains information collected from the version control system, the issue tracker, and the mailing lists of the projects. [You can find a documentation of the available data online](https://smartshark2.informatik.uni-goettingen.de/documentation/). \n",
    "\n",
    "## Your task\n",
    "\n",
    "The database contains data for many Apache Projects. For your group projects, only the following 39 projects are relevant:\n",
    "- ant-ivy, archiva, calcite, cayenne, commons-bcel, commons-beanutils, commons-codec, commons-collections, commons-compress, commons-configuration, commons-dbcp, commons-digester, commons-io, commons-jcs, commons-jexl, commons-lang, commons-math, commons-net, commons-rdf, commons-scxml, commons-validator, commons-vfs, deltaspike, eagle, giraph, gora, jspwiki, kylin, lens, mahout, manifoldcf, nutch, opennlp, parquet-mr, santuario-java, systemml, tika, wss4j\n",
    "\n",
    "Your task is to develop an automated model for the classification of issues as bugs. The model should be designed in such a way that it could be applied upon creation of an issue, i.e., as a recommendation system for users of the issue tracking system. \n",
    "\n",
    "You have to frame these questions into an analytic problem. Then, you have to create models that can be used to answer the questions. You have to choose appropriate features from the available data for this and decide which kind of analytic approach to use. Finally, you have to evaluate how well your approach performs. \n",
    "\n",
    "## Group registrations\n",
    "\n",
    "You have to work in groups of three people on this task. **One member of each group must register the whole group via an email to Johannes Erbel (johannes.erbel@cs.uni-goettingen.de) until Thursday, Dec 5th**. If you are fewer than three people, you register the same way and we will assign you additional group members from other groups with less than three people on Dec 7th. **This registration, as well as the successful participation of your group is a mandatory requirement for the participation in the exam!**\n",
    "\n",
    "\n",
    "## Presentation and voting\n",
    "\n",
    "**All results must be presented in the final lecture on Feb 4th, which will already start at 14:00 o'clock.** Each group must give four minute presentation. Within this presentation, you should briefly describe which data you analyzed, how you treated it, which models you used, and your key findings. The time available for the presentation depends on the number of groups and may be increased. This will be announced in January.\n",
    "\n",
    "Afterwards, everybody in attendance will vote to determine the best project. Each group votes for the best project (3 points), second best (2 points), and third best (1 point). The one with the most points wins a price. \n",
    "\n",
    "## Submission of the presentation\n",
    "\n",
    "In order to allow the presentation session to run smoothly, each group must submit their presentation beforehand. \n",
    "**Send the presentation latest on Feb 4th, 10:00 o'clock to Steffen Herbold via Email (herbold@cs.uni-goettingen.de)**. The presentations must be either PDF, PPT, PPTX, or ODP. Other formats are not allowed. \n",
    "\n",
    "## Success criteria\n",
    "\n",
    "The following criteria must be fulfilled by a project, such that the group members can participate in the exam:\n",
    "- A model for automated issue type classification.\n",
    "- An evaluation of the quality of the issue type classification model.\n",
    "- A recommendation on how the model could be used, including key benefits and risks.\n",
    "- The model must be applied to at least 30 projects from the database, which must all be considered for the evaluation.\n",
    "- A presentation of the results is given in the final lecture on Feb 4th.\n",
    "\n",
    "\n",
    "## Getting started\n",
    "\n",
    "The cell below shows how to access the data with Python. Please note that the database is behind a firewall and can only be accessed from within the Goenet. If you cannot reach the database, just establish a connection to the [VPN of the GWDG](https://info.gwdg.de/docs/doku.php?id=en:services:network_services:vpn:anyconnect) and it should be reachable. \n",
    "\n",
    "**WARNING:\n",
    "Because we also actively use the MongoDB in our research, there can sometimes be heavy load on the database. The database currently contains 6.5 Terabytes of data. Do not just randomly query the database, but fetch only the data you need. Otherwise you might easily try to download several Gigabytes of data. For example, if you want to fetch all information that is stored in the ```commit``` collection, you will download 114 Gigabytes of data.**"
   ]
  },
  {
   "cell_type": "markdown",
   "metadata": {},
   "source": [
    "### Accessing the database with Python\n",
    "\n",
    "You can use the [pycoSHARK](https://github.com/smartshark/pycoshark) library for accessing the MongoDB. The pycoSHARK provides an ORM layer based on the mongoengine library. Alternatively, you can also access the database with native MongoDB queries using the [pymongo](https://api.mongodb.com/python/current/) API. \n",
    "\n",
    "The code below shows how to use the database with the pycoSHARK. "
   ]
  },
  {
   "cell_type": "code",
   "execution_count": 1,
   "metadata": {},
   "outputs": [
    {
     "name": "stdout",
     "output_type": "stream",
     "text": [
      "Collecting pycoshark\n",
      "  Downloading https://files.pythonhosted.org/packages/2d/79/6e26d638be8f24722259424e8ec104ae0d820360e35cd3e030c1988d6500/pycoSHARK-1.2.6.tar.gz\n",
      "Collecting mongoengine\n",
      "\u001b[?25l  Downloading https://files.pythonhosted.org/packages/a7/1c/0749992c7a2b6a2f1879ad44ba5285f907d2024838459b4cd635c5e5effd/mongoengine-0.18.2.tar.gz (151kB)\n",
      "\u001b[K     |████████████████████████████████| 153kB 2.1MB/s eta 0:00:01\n",
      "\u001b[?25hCollecting pymongo\n",
      "\u001b[?25l  Downloading https://files.pythonhosted.org/packages/23/23/7666537adafcd232c88c156aa9382c859791d79bf12094005e009c2b6a3d/pymongo-3.9.0-cp37-cp37m-manylinux1_x86_64.whl (447kB)\n",
      "\u001b[K     |████████████████████████████████| 450kB 2.6MB/s eta 0:00:01\n",
      "\u001b[?25hRequirement already satisfied: python-dateutil in /home/jan-hendrik/anaconda3/lib/python3.7/site-packages (from pycoshark) (2.8.1)\n",
      "Collecting python-Levenshtein\n",
      "\u001b[?25l  Downloading https://files.pythonhosted.org/packages/42/a9/d1785c85ebf9b7dfacd08938dd028209c34a0ea3b1bcdb895208bd40a67d/python-Levenshtein-0.12.0.tar.gz (48kB)\n",
      "\u001b[K     |████████████████████████████████| 51kB 3.0MB/s eta 0:00:011\n",
      "\u001b[?25hRequirement already satisfied: networkx in /home/jan-hendrik/anaconda3/lib/python3.7/site-packages (from pycoshark) (2.3)\n",
      "Requirement already satisfied: six in /home/jan-hendrik/.local/lib/python3.7/site-packages (from mongoengine->pycoshark) (1.12.0)\n",
      "Requirement already satisfied: setuptools in /home/jan-hendrik/anaconda3/lib/python3.7/site-packages (from python-Levenshtein->pycoshark) (41.6.0.post20191030)\n",
      "Requirement already satisfied: decorator>=4.3.0 in /home/jan-hendrik/anaconda3/lib/python3.7/site-packages (from networkx->pycoshark) (4.4.1)\n",
      "Building wheels for collected packages: pycoshark, mongoengine, python-Levenshtein\n",
      "  Building wheel for pycoshark (setup.py) ... \u001b[?25ldone\n",
      "\u001b[?25h  Created wheel for pycoshark: filename=pycoSHARK-1.2.6-cp37-none-any.whl size=13215 sha256=1f2a2b275e8c4910473d29ee86db4b0778e95d83a80d57b14b1918d8251e8235\n",
      "  Stored in directory: /home/jan-hendrik/.cache/pip/wheels/56/6f/36/465f47cdd70dafe0bac90025a2eb88b3d97ec2e1c6527f30a8\n",
      "  Building wheel for mongoengine (setup.py) ... \u001b[?25ldone\n",
      "\u001b[?25h  Created wheel for mongoengine: filename=mongoengine-0.18.2-cp37-none-any.whl size=106686 sha256=cb09beea7b64ec372c03ca70796b4668fc84102e1f3047bcbb40aa689f38f25e\n",
      "  Stored in directory: /home/jan-hendrik/.cache/pip/wheels/bd/49/42/507e9e034c74255f972032d3593c7a2a37a3e243d3e399efb7\n",
      "  Building wheel for python-Levenshtein (setup.py) ... \u001b[?25ldone\n",
      "\u001b[?25h  Created wheel for python-Levenshtein: filename=python_Levenshtein-0.12.0-cp37-cp37m-linux_x86_64.whl size=167775 sha256=9d7c8c9881e6b1b62501b1eee60d68695f8867190b06db589300b2bfaca07285\n",
      "  Stored in directory: /home/jan-hendrik/.cache/pip/wheels/de/c2/93/660fd5f7559049268ad2dc6d81c4e39e9e36518766eaf7e342\n",
      "Successfully built pycoshark mongoengine python-Levenshtein\n",
      "Installing collected packages: pymongo, mongoengine, python-Levenshtein, pycoshark\n",
      "Successfully installed mongoengine-0.18.2 pycoshark-1.2.6 pymongo-3.9.0 python-Levenshtein-0.12.0\n"
     ]
    }
   ],
   "source": [
    "# code for installing our own library for accessing the MongoDB through a ORM engine\n",
    "import sys\n",
    "!{sys.executable} -m pip install pycoshark"
   ]
  },
  {
   "cell_type": "code",
   "execution_count": 2,
   "metadata": {
    "scrolled": false
   },
   "outputs": [
    {
     "ename": "ServerSelectionTimeoutError",
     "evalue": "134.76.81.151:27017: [Errno 111] Connection refused",
     "output_type": "error",
     "traceback": [
      "\u001b[0;31m---------------------------------------------------------------------------\u001b[0m",
      "\u001b[0;31mServerSelectionTimeoutError\u001b[0m               Traceback (most recent call last)",
      "\u001b[0;32m<ipython-input-2-597fbffdb255>\u001b[0m in \u001b[0;36m<module>\u001b[0;34m\u001b[0m\n\u001b[1;32m     18\u001b[0m \u001b[0;31m# Fetch project id and version control system id for the 'kafka' project\u001b[0m\u001b[0;34m\u001b[0m\u001b[0;34m\u001b[0m\u001b[0;34m\u001b[0m\u001b[0m\n\u001b[1;32m     19\u001b[0m \u001b[0;31m# The only() decides the data that is actually retrieved from the MongoDB. Always restrict this to the field that you require!\u001b[0m\u001b[0;34m\u001b[0m\u001b[0;34m\u001b[0m\u001b[0;34m\u001b[0m\u001b[0m\n\u001b[0;32m---> 20\u001b[0;31m \u001b[0mproject\u001b[0m \u001b[0;34m=\u001b[0m \u001b[0mProject\u001b[0m\u001b[0;34m.\u001b[0m\u001b[0mobjects\u001b[0m\u001b[0;34m(\u001b[0m\u001b[0mname\u001b[0m\u001b[0;34m=\u001b[0m\u001b[0;34m'commons-math'\u001b[0m\u001b[0;34m)\u001b[0m\u001b[0;34m.\u001b[0m\u001b[0monly\u001b[0m\u001b[0;34m(\u001b[0m\u001b[0;34m'id'\u001b[0m\u001b[0;34m)\u001b[0m\u001b[0;34m.\u001b[0m\u001b[0mget\u001b[0m\u001b[0;34m(\u001b[0m\u001b[0;34m)\u001b[0m\u001b[0;34m\u001b[0m\u001b[0;34m\u001b[0m\u001b[0m\n\u001b[0m\u001b[1;32m     21\u001b[0m \u001b[0mvcs_system\u001b[0m \u001b[0;34m=\u001b[0m \u001b[0mVCSSystem\u001b[0m\u001b[0;34m.\u001b[0m\u001b[0mobjects\u001b[0m\u001b[0;34m(\u001b[0m\u001b[0mproject_id\u001b[0m\u001b[0;34m=\u001b[0m\u001b[0mproject\u001b[0m\u001b[0;34m.\u001b[0m\u001b[0mid\u001b[0m\u001b[0;34m)\u001b[0m\u001b[0;34m.\u001b[0m\u001b[0monly\u001b[0m\u001b[0;34m(\u001b[0m\u001b[0;34m'id'\u001b[0m\u001b[0;34m,\u001b[0m\u001b[0;34m'url'\u001b[0m\u001b[0;34m)\u001b[0m\u001b[0;34m.\u001b[0m\u001b[0mget\u001b[0m\u001b[0;34m(\u001b[0m\u001b[0;34m)\u001b[0m\u001b[0;34m\u001b[0m\u001b[0;34m\u001b[0m\u001b[0m\n\u001b[1;32m     22\u001b[0m \u001b[0mprint\u001b[0m\u001b[0;34m(\u001b[0m\u001b[0;34m'url of VCS system of the project: %s'\u001b[0m \u001b[0;34m%\u001b[0m \u001b[0mvcs_system\u001b[0m\u001b[0;34m.\u001b[0m\u001b[0murl\u001b[0m\u001b[0;34m)\u001b[0m\u001b[0;34m\u001b[0m\u001b[0;34m\u001b[0m\u001b[0m\n",
      "\u001b[0;32m~/anaconda3/lib/python3.7/site-packages/mongoengine/queryset/manager.py\u001b[0m in \u001b[0;36m__get__\u001b[0;34m(self, instance, owner)\u001b[0m\n\u001b[1;32m     35\u001b[0m         \u001b[0;31m# owner is the document that contains the QuerySetManager\u001b[0m\u001b[0;34m\u001b[0m\u001b[0;34m\u001b[0m\u001b[0;34m\u001b[0m\u001b[0m\n\u001b[1;32m     36\u001b[0m         \u001b[0mqueryset_class\u001b[0m \u001b[0;34m=\u001b[0m \u001b[0mowner\u001b[0m\u001b[0;34m.\u001b[0m\u001b[0m_meta\u001b[0m\u001b[0;34m.\u001b[0m\u001b[0mget\u001b[0m\u001b[0;34m(\u001b[0m\u001b[0;34m'queryset_class'\u001b[0m\u001b[0;34m,\u001b[0m \u001b[0mself\u001b[0m\u001b[0;34m.\u001b[0m\u001b[0mdefault\u001b[0m\u001b[0;34m)\u001b[0m\u001b[0;34m\u001b[0m\u001b[0;34m\u001b[0m\u001b[0m\n\u001b[0;32m---> 37\u001b[0;31m         \u001b[0mqueryset\u001b[0m \u001b[0;34m=\u001b[0m \u001b[0mqueryset_class\u001b[0m\u001b[0;34m(\u001b[0m\u001b[0mowner\u001b[0m\u001b[0;34m,\u001b[0m \u001b[0mowner\u001b[0m\u001b[0;34m.\u001b[0m\u001b[0m_get_collection\u001b[0m\u001b[0;34m(\u001b[0m\u001b[0;34m)\u001b[0m\u001b[0;34m)\u001b[0m\u001b[0;34m\u001b[0m\u001b[0;34m\u001b[0m\u001b[0m\n\u001b[0m\u001b[1;32m     38\u001b[0m         \u001b[0;32mif\u001b[0m \u001b[0mself\u001b[0m\u001b[0;34m.\u001b[0m\u001b[0mget_queryset\u001b[0m\u001b[0;34m:\u001b[0m\u001b[0;34m\u001b[0m\u001b[0;34m\u001b[0m\u001b[0m\n\u001b[1;32m     39\u001b[0m             \u001b[0marg_count\u001b[0m \u001b[0;34m=\u001b[0m \u001b[0mself\u001b[0m\u001b[0;34m.\u001b[0m\u001b[0mget_queryset\u001b[0m\u001b[0;34m.\u001b[0m\u001b[0m__code__\u001b[0m\u001b[0;34m.\u001b[0m\u001b[0mco_argcount\u001b[0m\u001b[0;34m\u001b[0m\u001b[0;34m\u001b[0m\u001b[0m\n",
      "\u001b[0;32m~/anaconda3/lib/python3.7/site-packages/mongoengine/document.py\u001b[0m in \u001b[0;36m_get_collection\u001b[0;34m(cls)\u001b[0m\n\u001b[1;32m    205\u001b[0m             \u001b[0mdb\u001b[0m \u001b[0;34m=\u001b[0m \u001b[0mcls\u001b[0m\u001b[0;34m.\u001b[0m\u001b[0m_get_db\u001b[0m\u001b[0;34m(\u001b[0m\u001b[0;34m)\u001b[0m\u001b[0;34m\u001b[0m\u001b[0;34m\u001b[0m\u001b[0m\n\u001b[1;32m    206\u001b[0m             \u001b[0;32mif\u001b[0m \u001b[0mcls\u001b[0m\u001b[0;34m.\u001b[0m\u001b[0m_meta\u001b[0m\u001b[0;34m.\u001b[0m\u001b[0mget\u001b[0m\u001b[0;34m(\u001b[0m\u001b[0;34m'auto_create_index'\u001b[0m\u001b[0;34m,\u001b[0m \u001b[0;32mTrue\u001b[0m\u001b[0;34m)\u001b[0m \u001b[0;32mand\u001b[0m\u001b[0;31m\\\u001b[0m\u001b[0;34m\u001b[0m\u001b[0;34m\u001b[0m\u001b[0m\n\u001b[0;32m--> 207\u001b[0;31m                     \u001b[0mdb\u001b[0m\u001b[0;34m.\u001b[0m\u001b[0mclient\u001b[0m\u001b[0;34m.\u001b[0m\u001b[0mis_primary\u001b[0m\u001b[0;34m:\u001b[0m\u001b[0;34m\u001b[0m\u001b[0;34m\u001b[0m\u001b[0m\n\u001b[0m\u001b[1;32m    208\u001b[0m                 \u001b[0mcls\u001b[0m\u001b[0;34m.\u001b[0m\u001b[0mensure_indexes\u001b[0m\u001b[0;34m(\u001b[0m\u001b[0;34m)\u001b[0m\u001b[0;34m\u001b[0m\u001b[0;34m\u001b[0m\u001b[0m\n\u001b[1;32m    209\u001b[0m \u001b[0;34m\u001b[0m\u001b[0m\n",
      "\u001b[0;32m~/anaconda3/lib/python3.7/site-packages/pymongo/mongo_client.py\u001b[0m in \u001b[0;36mis_primary\u001b[0;34m(self)\u001b[0m\n\u001b[1;32m   1004\u001b[0m         \u001b[0mserver\u001b[0m \u001b[0;32mis\u001b[0m \u001b[0mavailable\u001b[0m\u001b[0;34m.\u001b[0m\u001b[0;34m\u001b[0m\u001b[0;34m\u001b[0m\u001b[0m\n\u001b[1;32m   1005\u001b[0m         \"\"\"\n\u001b[0;32m-> 1006\u001b[0;31m         \u001b[0;32mreturn\u001b[0m \u001b[0mself\u001b[0m\u001b[0;34m.\u001b[0m\u001b[0m_server_property\u001b[0m\u001b[0;34m(\u001b[0m\u001b[0;34m'is_writable'\u001b[0m\u001b[0;34m)\u001b[0m\u001b[0;34m\u001b[0m\u001b[0;34m\u001b[0m\u001b[0m\n\u001b[0m\u001b[1;32m   1007\u001b[0m \u001b[0;34m\u001b[0m\u001b[0m\n\u001b[1;32m   1008\u001b[0m     \u001b[0;34m@\u001b[0m\u001b[0mproperty\u001b[0m\u001b[0;34m\u001b[0m\u001b[0;34m\u001b[0m\u001b[0m\n",
      "\u001b[0;32m~/anaconda3/lib/python3.7/site-packages/pymongo/mongo_client.py\u001b[0m in \u001b[0;36m_server_property\u001b[0;34m(self, attr_name)\u001b[0m\n\u001b[1;32m    829\u001b[0m         \"\"\"\n\u001b[1;32m    830\u001b[0m         server = self._topology.select_server(\n\u001b[0;32m--> 831\u001b[0;31m             writable_server_selector)\n\u001b[0m\u001b[1;32m    832\u001b[0m \u001b[0;34m\u001b[0m\u001b[0m\n\u001b[1;32m    833\u001b[0m         \u001b[0;32mreturn\u001b[0m \u001b[0mgetattr\u001b[0m\u001b[0;34m(\u001b[0m\u001b[0mserver\u001b[0m\u001b[0;34m.\u001b[0m\u001b[0mdescription\u001b[0m\u001b[0;34m,\u001b[0m \u001b[0mattr_name\u001b[0m\u001b[0;34m)\u001b[0m\u001b[0;34m\u001b[0m\u001b[0;34m\u001b[0m\u001b[0m\n",
      "\u001b[0;32m~/anaconda3/lib/python3.7/site-packages/pymongo/topology.py\u001b[0m in \u001b[0;36mselect_server\u001b[0;34m(self, selector, server_selection_timeout, address)\u001b[0m\n\u001b[1;32m    229\u001b[0m         return random.choice(self.select_servers(selector,\n\u001b[1;32m    230\u001b[0m                                                  \u001b[0mserver_selection_timeout\u001b[0m\u001b[0;34m,\u001b[0m\u001b[0;34m\u001b[0m\u001b[0;34m\u001b[0m\u001b[0m\n\u001b[0;32m--> 231\u001b[0;31m                                                  address))\n\u001b[0m\u001b[1;32m    232\u001b[0m \u001b[0;34m\u001b[0m\u001b[0m\n\u001b[1;32m    233\u001b[0m     def select_server_by_address(self, address,\n",
      "\u001b[0;32m~/anaconda3/lib/python3.7/site-packages/pymongo/topology.py\u001b[0m in \u001b[0;36mselect_servers\u001b[0;34m(self, selector, server_selection_timeout, address)\u001b[0m\n\u001b[1;32m    187\u001b[0m         \u001b[0;32mwith\u001b[0m \u001b[0mself\u001b[0m\u001b[0;34m.\u001b[0m\u001b[0m_lock\u001b[0m\u001b[0;34m:\u001b[0m\u001b[0;34m\u001b[0m\u001b[0;34m\u001b[0m\u001b[0m\n\u001b[1;32m    188\u001b[0m             server_descriptions = self._select_servers_loop(\n\u001b[0;32m--> 189\u001b[0;31m                 selector, server_timeout, address)\n\u001b[0m\u001b[1;32m    190\u001b[0m \u001b[0;34m\u001b[0m\u001b[0m\n\u001b[1;32m    191\u001b[0m             return [self.get_server_by_address(sd.address)\n",
      "\u001b[0;32m~/anaconda3/lib/python3.7/site-packages/pymongo/topology.py\u001b[0m in \u001b[0;36m_select_servers_loop\u001b[0;34m(self, selector, timeout, address)\u001b[0m\n\u001b[1;32m    203\u001b[0m             \u001b[0;32mif\u001b[0m \u001b[0mtimeout\u001b[0m \u001b[0;34m==\u001b[0m \u001b[0;36m0\u001b[0m \u001b[0;32mor\u001b[0m \u001b[0mnow\u001b[0m \u001b[0;34m>\u001b[0m \u001b[0mend_time\u001b[0m\u001b[0;34m:\u001b[0m\u001b[0;34m\u001b[0m\u001b[0;34m\u001b[0m\u001b[0m\n\u001b[1;32m    204\u001b[0m                 raise ServerSelectionTimeoutError(\n\u001b[0;32m--> 205\u001b[0;31m                     self._error_message(selector))\n\u001b[0m\u001b[1;32m    206\u001b[0m \u001b[0;34m\u001b[0m\u001b[0m\n\u001b[1;32m    207\u001b[0m             \u001b[0mself\u001b[0m\u001b[0;34m.\u001b[0m\u001b[0m_ensure_opened\u001b[0m\u001b[0;34m(\u001b[0m\u001b[0;34m)\u001b[0m\u001b[0;34m\u001b[0m\u001b[0;34m\u001b[0m\u001b[0m\n",
      "\u001b[0;31mServerSelectionTimeoutError\u001b[0m: 134.76.81.151:27017: [Errno 111] Connection refused"
     ]
    }
   ],
   "source": [
    "from mongoengine import connect\n",
    "from pycoshark.mongomodels import People, Commit, Project, VCSSystem\n",
    "from pycoshark.utils import create_mongodb_uri_string\n",
    "\n",
    "# Database credentials\n",
    "user = 'datascience2019'\n",
    "password = 'zE3qHdeJtdVJYznf'\n",
    "host = '134.76.81.151'\n",
    "port = '27017'\n",
    "authentication_db = 'smartshark'\n",
    "database = \"smartshark\"\n",
    "ssl_enabled = None\n",
    "\n",
    "# Establish connection\n",
    "uri = create_mongodb_uri_string(user, password, host, port, authentication_db, ssl_enabled)\n",
    "connect(database, host=uri)\n",
    "\n",
    "# Fetch project id and version control system id for the 'kafka' project\n",
    "# The only() decides the data that is actually retrieved from the MongoDB. Always restrict this to the field that you require!\n",
    "project = Project.objects(name='commons-math').only('id').get()\n",
    "vcs_system = VCSSystem.objects(project_id=project.id).only('id','url').get()\n",
    "print('url of VCS system of the project: %s' % vcs_system.url)\n",
    "\n",
    "# determine latest commit of the commons-math project\n",
    "last_commit = None\n",
    "max_date = None\n",
    "# loop over all commits of kafka\n",
    "for commit in Commit.objects(vcs_system_id=vcs_system.id).only('committer_date', 'committer_id','revision_hash').timeout(False):\n",
    "    if max_date is None:\n",
    "        last_commit = commit\n",
    "        max_date = commit.committer_date\n",
    "    if max_date<commit.committer_date:\n",
    "        last_commit = commit\n",
    "        max_date = commit.committer_date\n",
    "        \n",
    "print('revision hash of last commit in database: %s' % last_commit.revision_hash)\n",
    "print('date of last commit in database: %s' % last_commit.committer_date)\n",
    "print('link to commit on Github: https://github.com/apache/commons-math/commit/%s' % last_commit.revision_hash)\n",
    "\n",
    "# fetch committer from People\n",
    "last_committer = People.objects(id=last_commit.committer_id).only('name','email').get()\n",
    "print('last commit by %s (%s)' % (last_committer.name,last_committer.email))"
   ]
  },
  {
   "cell_type": "code",
   "execution_count": null,
   "metadata": {},
   "outputs": [],
   "source": []
  }
 ],
 "metadata": {
  "kernelspec": {
   "display_name": "Python 3",
   "language": "python",
   "name": "python3"
  },
  "language_info": {
   "codemirror_mode": {
    "name": "ipython",
    "version": 3
   },
   "file_extension": ".py",
   "mimetype": "text/x-python",
   "name": "python",
   "nbconvert_exporter": "python",
   "pygments_lexer": "ipython3",
   "version": "3.7.3"
  }
 },
 "nbformat": 4,
 "nbformat_minor": 2
}
